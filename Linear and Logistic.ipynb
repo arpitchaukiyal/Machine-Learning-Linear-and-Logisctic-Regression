{
 "cells": [
  {
   "cell_type": "code",
   "execution_count": 1,
   "metadata": {},
   "outputs": [
    {
     "name": "stdout",
     "output_type": "stream",
     "text": [
      "Interactive namespace is empty.\n"
     ]
    }
   ],
   "source": [
    "%who"
   ]
  },
  {
   "cell_type": "code",
   "execution_count": 24,
   "metadata": {},
   "outputs": [
    {
     "name": "stdout",
     "output_type": "stream",
     "text": [
      "Once deleted, variables cannot be recovered. Proceed (y/[n])? y\n"
     ]
    }
   ],
   "source": [
    "%reset"
   ]
  },
  {
   "cell_type": "code",
   "execution_count": 231,
   "metadata": {},
   "outputs": [
    {
     "name": "stdout",
     "output_type": "stream",
     "text": [
      "Interactive namespace is empty.\n"
     ]
    }
   ],
   "source": [
    "%who"
   ]
  },
  {
   "cell_type": "code",
   "execution_count": 2,
   "metadata": {
    "collapsed": true
   },
   "outputs": [],
   "source": [
    "import os\n",
    "import numpy as np\n",
    "import pandas as pd\n",
    "import matplotlib.pyplot as plt\n",
    "from sklearn.model_selection import train_test_split\n",
    "from sklearn.metrics import mean_squared_error\n",
    "from sklearn.metrics import mean_absolute_error\n",
    "import scipy.optimize as opt \n",
    "import random \n",
    "from sklearn.metrics import confusion_matrix\n",
    "%matplotlib inline"
   ]
  },
  {
   "cell_type": "markdown",
   "metadata": {},
   "source": [
    "# Method: prepare_data\n",
    "This is the function which accepts the datafarme, changes the categorical variable into dummy variables, splits the data into training and test datasets."
   ]
  },
  {
   "cell_type": "code",
   "execution_count": 3,
   "metadata": {
    "collapsed": true
   },
   "outputs": [],
   "source": [
    "# Note: before calling this function, treat the ordinal variables\n",
    "def prepare_data(data):\n",
    "    #separating the features which are 'categorical' from 'numerical' features\n",
    "    #feature_cat contains the names of all categorical features.\n",
    "    #feature_num comtains the names of all numericla feature.\n",
    "    \n",
    "    feature_cat = data.select_dtypes(include=['object']).columns.values\n",
    "    feature_num = data.select_dtypes(include=['int64']).columns.values\n",
    "    \n",
    "    # treating the categorical vairable to introduce the dummy variable.\n",
    "    for i in range(0, len(feature_cat)):\n",
    "        data_dummy = makeDummy(data[feature_cat[i]])\n",
    "        data = data.drop(feature_cat[i], axis = 1)\n",
    "        data = pd.concat([data, data_dummy], axis = 1)\n",
    "        \n",
    "        \n",
    "    # Dividing the data into test and train dataset.\n",
    "    cols = data.shape[1]  \n",
    "    train, test = train_test_split(data, test_size=0.2,random_state=123)\n",
    "\n",
    "    y_train=train['G3']\n",
    "    x_train=train.drop('G3', axis = 1)\n",
    "\n",
    "    y_test=test['G3']\n",
    "    x_test=test.drop('G3', axis = 1)\n",
    "    \n",
    "    feature_num = np.delete(feature_num, -1)\n",
    "    \n",
    "    #Normalization\n",
    "    x_train_num = (x_train[feature_num] - x_train[feature_num].mean())/ (x_train[feature_num].max() - x_train[feature_num].min())\n",
    "    x_test_num = (x_test[feature_num] - x_test[feature_num].mean())/ (x_test[feature_num].max() - x_test[feature_num].min())\n",
    "\n",
    "    x_train = x_train.drop(feature_num, axis = 1)\n",
    "    x_test  = x_test.drop(feature_num, axis = 1)\n",
    "    \n",
    "    x_train = pd.concat([x_train_num, x_train], axis =1)\n",
    "    x_test = pd.concat([x_test_num, x_test], axis =1)\n",
    "    \n",
    "    x_train.insert(0, 'X0', 1)\n",
    "    x_test.insert(0, 'X0', 1)\n",
    "    x_train = np.matrix(x_train.values)  \n",
    "    x_test = np.matrix(x_test.values)  \n",
    "    y_train = np.matrix(y_train.values)\n",
    "    y_train = y_train.T\n",
    "    y_test = np.matrix(y_test.values)\n",
    "    y_test = y_test.T  \n",
    "    theta = np.matrix(np.zeros([1,x_train.shape[1]]))\n",
    "    return x_train,x_test,y_train,y_test,theta"
   ]
  },
  {
   "cell_type": "code",
   "execution_count": 4,
   "metadata": {
    "collapsed": true
   },
   "outputs": [],
   "source": [
    "def makeDummy(categorical):\n",
    "    #this function will make the dummy vairable from the categorical variable.\n",
    "    return pd.get_dummies(categorical, prefix= categorical.name, drop_first= True)"
   ]
  },
  {
   "cell_type": "markdown",
   "metadata": {},
   "source": [
    "# Linear Regression"
   ]
  },
  {
   "cell_type": "code",
   "execution_count": 5,
   "metadata": {
    "collapsed": true
   },
   "outputs": [],
   "source": [
    "def cost_LinearRegression(X_train,y_train,theta): \n",
    "    return np.sum(np.power(((X_train*theta.T) - y_train),2))/(2*len(y_train))"
   ]
  },
  {
   "cell_type": "code",
   "execution_count": 6,
   "metadata": {
    "collapsed": true
   },
   "outputs": [],
   "source": [
    "def gradientDescent_LinearR(X,y,theta, alpha, iterations):\n",
    "    \n",
    "    temp = np.matrix(np.zeros(theta.shape))\n",
    "\n",
    "    params = int(theta.shape[1])\n",
    "    cost = np.zeros(iterations)\n",
    "    \n",
    "    for i in range(iterations):\n",
    "        error = (X*theta.T) - y\n",
    "        for j in range(params):\n",
    "            term = np.multiply(error,X[:,j])\n",
    "            temp[0,j] = theta[0,j] - (1/len(X))*alpha*np.sum(term)\n",
    "            \n",
    "        theta = temp\n",
    "        cost[i] = cost_LinearRegression(X,y,theta)\n",
    "    return theta , cost"
   ]
  },
  {
   "cell_type": "code",
   "execution_count": 8,
   "metadata": {
    "collapsed": true
   },
   "outputs": [],
   "source": [
    "def results_LinearRegression(theta,X,y,data_set):\n",
    "    y_predictions = X*theta.T\n",
    "    \n",
    "    print(\"~~~~~~~~~~~~~~~~~~~~~~~~~~~~~~~~~~~~~~~~~~~~~~~~~~~~~~~~~~~~~~~~~~~~~~~~~~~~~~\")\n",
    "    print(\"Linear Regression -> Running the Gradient Descent Algorithm for \"+data_set)\n",
    "    print(\"Mean Squared error = {}\".format(round(mean_squared_error(y,y_predictions),6)))    \n",
    "    print(\"Mean Absolute error = {}\".format(round(mean_absolute_error(y,y_predictions),6)))\n",
    "    print(\"~~~~~~~~~~~~~~~~~~~~~~~~~~~~~~~~~~~~~~~~~~~~~~~~~~~~~~~~~~~~~~~~~~~~~~~~~~~~~~\")"
   ]
  },
  {
   "cell_type": "code",
   "execution_count": 9,
   "metadata": {},
   "outputs": [
    {
     "name": "stdout",
     "output_type": "stream",
     "text": [
      "~~~~~~~~~~~~~~~~~~~~~~~~~~~~~~~~~~~~~~~~~~~~~~~~~~~~~~~~~~~~~~~~~~~~~~~~~~~~~~\n",
      "Linear Regression -> Running the Gradient Descent Algorithm for Train-Data Set\n",
      "Mean Squared error = 15.415601\n",
      "Mean Absolute error = 2.99322\n",
      "~~~~~~~~~~~~~~~~~~~~~~~~~~~~~~~~~~~~~~~~~~~~~~~~~~~~~~~~~~~~~~~~~~~~~~~~~~~~~~\n",
      "~~~~~~~~~~~~~~~~~~~~~~~~~~~~~~~~~~~~~~~~~~~~~~~~~~~~~~~~~~~~~~~~~~~~~~~~~~~~~~\n",
      "Linear Regression -> Running the Gradient Descent Algorithm for Test-Data Set\n",
      "Mean Squared error = 16.832029\n",
      "Mean Absolute error = 3.331172\n",
      "~~~~~~~~~~~~~~~~~~~~~~~~~~~~~~~~~~~~~~~~~~~~~~~~~~~~~~~~~~~~~~~~~~~~~~~~~~~~~~\n"
     ]
    }
   ],
   "source": [
    "# Linear Regression\n",
    "\n",
    "data = pd.read_csv(\"student-mat.csv\", delimiter =\";\")\n",
    "\n",
    "#-------------------------------------------------------------\n",
    "#\n",
    "# have to delete the 'G1' and 'G2' variables also\n",
    "#-------------------------------------------------------------\n",
    "data = data.drop(['G1', 'G2'], axis = 1)\n",
    "\n",
    "X_train, X_test, y_train, y_test, theta = prepare_data(data)\n",
    "alpha = 0.01\n",
    "iters = 5000\n",
    "OptTheta, cost = gradientDescent_LinearR(X_train, y_train, theta, alpha, iters)\n",
    "\n",
    "#y_predictions = X_test*OptTheta.T\n",
    "\n",
    "results_LinearRegression(OptTheta,X_train,y_train,\"Train-Data Set\")\n",
    "results_LinearRegression(OptTheta,X_test,y_test,\"Test-Data Set\")"
   ]
  },
  {
   "cell_type": "markdown",
   "metadata": {},
   "source": [
    "## Task 2\n",
    "Converting the linear regression into the Classification Problem."
   ]
  },
  {
   "cell_type": "code",
   "execution_count": 10,
   "metadata": {
    "collapsed": true
   },
   "outputs": [],
   "source": [
    "# making the sigmoid function for logistic regression.\n",
    "\n",
    "def sigmoid_func(z):\n",
    "    return 1.0 / (1 - np.exp(-z))\n",
    "\n",
    "\n",
    "# making the cost function for the logistic function.\n",
    "\n",
    "def cost_LogisticRegression(theta, X,y):\n",
    "    theta = np.matrix(theta)\n",
    "    X = np.matrix(X)\n",
    "    y = np.matrix(y)\n",
    " \n",
    "    first = np.multiply(-y.T,np.log(sigmoid_func(X*theta.T)))\n",
    "    second = np.multiply((1-y).T,np.log(1-sigmoid_func(X*theta.T)))\n",
    "    return np.sum((first - second)/len(X))\n"
   ]
  },
  {
   "cell_type": "markdown",
   "metadata": {},
   "source": [
    "# Logistic Regression"
   ]
  },
  {
   "cell_type": "code",
   "execution_count": 11,
   "metadata": {
    "collapsed": true
   },
   "outputs": [],
   "source": [
    "def gradientDescent_LogisticR(theta, X, y):\n",
    "    theta = np.matrix(theta)\n",
    "    X = np.matrix(X)\n",
    "    y = np.matrix(y)\n",
    "    \n",
    "    params = int(theta.ravel().shape[1])\n",
    "    grad = np.zeros(params)\n",
    "    \n",
    "    error = sigmoid_func(X*theta.T) - y.T\n",
    "    \n",
    "    for i in range(params):\n",
    "        term = np.multiply(error,X[:,i])\n",
    "        grad[i] = np.sum(term) / len(X)\n",
    "    \n",
    "    return grad"
   ]
  },
  {
   "cell_type": "code",
   "execution_count": 15,
   "metadata": {
    "collapsed": true
   },
   "outputs": [],
   "source": [
    "def predict_logit(theta,X):\n",
    "    print(theta.shape)\n",
    "    print(theta.shape)\n",
    "    prob = sigmoid_func(X*theta.T)\n",
    "    return [1 if x >=0.5 else 0 for x in prob]"
   ]
  },
  {
   "cell_type": "code",
   "execution_count": 13,
   "metadata": {
    "collapsed": true
   },
   "outputs": [],
   "source": [
    "def results_Logistic(theta,X,y,data_set):\n",
    "    \n",
    "    y_predictions = np.matrix(predict_logit(theta,X)).T\n",
    "    temp = (y_predictions == y)  # boolean array for correct and incorrect classification\n",
    "    accuracy = (temp.sum()/temp.shape[0])*100\n",
    "    print(\"~~~~~~~~~~~~~~~~~~~~~~~~~~~~~~~~~~~~~~~~~~~~~~~~~~~~~~~~~~~~~~~~~~~~~~~~~~~~~~\")\n",
    "    print(\"Logistic Regression -> Running the algo on \"+data_set)\n",
    "    print(\"Accuracy is {} %\".format(round(accuracy,2)))\n",
    "    print(\"Confusion Matrix = \\n{}\".format(confusion_matrix(y,y_predictions)))    \n",
    "    print(\"Mean Absolute error = {}\".format(round(mean_absolute_error(y,y_predictions),4)))\n",
    "    print(\"~~~~~~~~~~~~~~~~~~~~~~~~~~~~~~~~~~~~~~~~~~~~~~~~~~~~~~~~~~~~~~~~~~~~~~~~~~~~~~\")"
   ]
  },
  {
   "cell_type": "code",
   "execution_count": null,
   "metadata": {},
   "outputs": [
    {
     "name": "stdout",
     "output_type": "stream",
     "text": [
      "(316, 42)\n",
      "(1, 42)\n"
     ]
    },
    {
     "name": "stderr",
     "output_type": "stream",
     "text": [
      "/Users/arpitchaukiyal/anaconda/lib/python3.6/site-packages/ipykernel_launcher.py:4: RuntimeWarning: divide by zero encountered in true_divide\n",
      "  after removing the cwd from sys.path.\n",
      "/Users/arpitchaukiyal/anaconda/lib/python3.6/site-packages/ipykernel_launcher.py:14: RuntimeWarning: invalid value encountered in multiply\n",
      "  \n",
      "/Users/arpitchaukiyal/anaconda/lib/python3.6/site-packages/ipykernel_launcher.py:15: RuntimeWarning: invalid value encountered in log\n",
      "  from ipykernel import kernelapp as app\n",
      "/Users/arpitchaukiyal/anaconda/lib/python3.6/site-packages/numpy/core/_methods.py:32: RuntimeWarning: invalid value encountered in reduce\n",
      "  return umr_sum(a, axis, dtype, out, keepdims)\n",
      "/Users/arpitchaukiyal/anaconda/lib/python3.6/site-packages/ipykernel_launcher.py:12: RuntimeWarning: invalid value encountered in multiply\n",
      "  if sys.path[0] == '':\n"
     ]
    }
   ],
   "source": [
    "#Logistic regression\n",
    "\n",
    "data = pd.read_csv(\"student-mat.csv\", delimiter =\";\")\n",
    "\n",
    "median = data['G3'].median()\n",
    "data['G3'] = np.where(data['G3']>=median, 1, 0)\n",
    "\n",
    "\n",
    "# 1: for all marks greater than or equal to median: Good_Marks\n",
    "# 0: for all marks less than median: Not_Good_Marks\n",
    "\n",
    "X_train,X_test,y_train,y_test,theta = prepare_data(data)\n",
    "\n",
    "print(X_train.shape)\n",
    "print(theta.shape)\n",
    "\n",
    "result = opt.fmin_tnc(func=cost_LogisticRegression, x0=theta, fprime=gradientDescent_LogisticR, args=(X_train, y_train))  \n",
    "\n",
    "results_Logistic(OptTheta,X_test,y_test,\"Test set\")\n",
    "results_Logistic(OptTheta,X_train,y_train,\"Train set\")"
   ]
  },
  {
   "cell_type": "markdown",
   "metadata": {},
   "source": [
    "# Experiment 1"
   ]
  },
  {
   "cell_type": "code",
   "execution_count": 17,
   "metadata": {},
   "outputs": [
    {
     "name": "stderr",
     "output_type": "stream",
     "text": [
      "/Users/arpitchaukiyal/anaconda/lib/python3.6/site-packages/numpy/core/_methods.py:32: RuntimeWarning: overflow encountered in reduce\n",
      "  return umr_sum(a, axis, dtype, out, keepdims)\n",
      "/Users/arpitchaukiyal/anaconda/lib/python3.6/site-packages/ipykernel_launcher.py:2: RuntimeWarning: overflow encountered in power\n",
      "  \n"
     ]
    },
    {
     "data": {
      "image/png": "[encoded data removed]",
      "text/plain": [
       "<Figure size 1440x1440 with 5 Axes>"
      ]
     },
     "metadata": {},
     "output_type": "display_data"
    }
   ],
   "source": [
    "\n",
    "# Linear Regression# Linear  \n",
    "\n",
    "data = pd.read_csv(\"student-mat.csv\", delimiter =\";\")\n",
    "\n",
    "X_train,X_test,y_train,y_test,theta = prepare_data(data)\n",
    "  \n",
    "iters = 500\n",
    "fig, ax = plt.subplots(figsize=(20,20))  \n",
    "sample=[1,2,3,4,5]\n",
    "count = 510\n",
    "for alpha in [0.01,0.1,0.3,1,3]:\n",
    "    count+=1\n",
    "    OptTheta, cost = gradientDescent_LinearR(X_train, y_train, theta, alpha, iters)  \n",
    "    sample[count-511] = cost\n",
    "    plt.subplot(count)\n",
    "    plt.plot(np.arange(iters), sample[count-511], 'b--')\n",
    "    plt.title('Cost Vs Iterations where alpha = {}'.format(alpha))\n",
    "    plt.xlabel(\"Iterations\")\n",
    "    plt.ylabel(\"Cost\")\n",
    "    plt.tight_layout()"
   ]
  },
  {
   "cell_type": "markdown",
   "metadata": {
    "collapsed": true
   },
   "source": [
    "# Experiment 2\n",
    "## Linear Regression with 10 random variables"
   ]
  },
  {
   "cell_type": "code",
   "execution_count": 60,
   "metadata": {},
   "outputs": [
    {
     "name": "stdout",
     "output_type": "stream",
     "text": [
      "~~~~~~~~~~~~~~~~~~~~~~~~~~~~~~~~~~~~~~~~~~~~~~~~~~~~~~~~~~~~~~~~~~~~~~~~~~~~~~\n",
      "Linear Regression -> Running the Gradient Descent Algorithm for Random_Train-Data Set\n",
      "Mean Squared error = 18.946271\n",
      "Mean Absolute error = 3.267415\n",
      "~~~~~~~~~~~~~~~~~~~~~~~~~~~~~~~~~~~~~~~~~~~~~~~~~~~~~~~~~~~~~~~~~~~~~~~~~~~~~~\n",
      "~~~~~~~~~~~~~~~~~~~~~~~~~~~~~~~~~~~~~~~~~~~~~~~~~~~~~~~~~~~~~~~~~~~~~~~~~~~~~~\n",
      "Linear Regression -> Running the Gradient Descent Algorithm for Random_Test-Data Set\n",
      "Mean Squared error = 22.802704\n",
      "Mean Absolute error = 3.802999\n",
      "~~~~~~~~~~~~~~~~~~~~~~~~~~~~~~~~~~~~~~~~~~~~~~~~~~~~~~~~~~~~~~~~~~~~~~~~~~~~~~\n"
     ]
    }
   ],
   "source": [
    "data = pd.read_csv(\"student-mat.csv\", delimiter =\";\")\n",
    "\n",
    "#-------------------------------------------------------------\n",
    "# have to delete the 'G1' and 'G2' variables also\n",
    "#-------------------------------------------------------------\n",
    "data = data.drop(['G1', 'G2'], axis = 1)\n",
    "\n",
    "data_rand_features = pd.DataFrame(data.sample(n=10,axis = 1, random_state = 123))\n",
    "\n",
    "if 'G3' not in data_rand_features.columns.names:\n",
    "    data_rand_features = data_rand_features.drop(columns = [data_rand_features.columns[-1]])\n",
    "    data_rand_features = pd.concat([data_rand_features, data['G3']], axis = 1)\n",
    "   \n",
    "X_train, X_test, y_train, y_test, theta = prepare_data(data_rand_features)\n",
    "alpha = 0.01\n",
    "iters = 5000\n",
    "OptTheta, cost = gradientDescent_LinearR(X_train, y_train, theta, alpha, iters)\n",
    "\n",
    "#y_predictions = X_test*OptTheta.T\n",
    "\n",
    "results_LinearRegression(OptTheta,X_train,y_train,\"Random_Train-Data Set\")\n",
    "results_LinearRegression(OptTheta,X_test,y_test,\"Random_Test-Data Set\")"
   ]
  },
  {
   "cell_type": "markdown",
   "metadata": {},
   "source": [
    "# Experiment 3\n",
    "## Linear regression with Handpicked 10 features"
   ]
  },
  {
   "cell_type": "code",
   "execution_count": 61,
   "metadata": {},
   "outputs": [
    {
     "name": "stdout",
     "output_type": "stream",
     "text": [
      "~~~~~~~~~~~~~~~~~~~~~~~~~~~~~~~~~~~~~~~~~~~~~~~~~~~~~~~~~~~~~~~~~~~~~~~~~~~~~~\n",
      "Linear Regression -> Running the Gradient Descent Algorithm for Handpicked_Train-Data Set\n",
      "Mean Squared error = 18.946271\n",
      "Mean Absolute error = 3.267415\n",
      "~~~~~~~~~~~~~~~~~~~~~~~~~~~~~~~~~~~~~~~~~~~~~~~~~~~~~~~~~~~~~~~~~~~~~~~~~~~~~~\n",
      "~~~~~~~~~~~~~~~~~~~~~~~~~~~~~~~~~~~~~~~~~~~~~~~~~~~~~~~~~~~~~~~~~~~~~~~~~~~~~~\n",
      "Linear Regression -> Running the Gradient Descent Algorithm for Handpicked_Test-Data Set\n",
      "Mean Squared error = 22.802704\n",
      "Mean Absolute error = 3.802999\n",
      "~~~~~~~~~~~~~~~~~~~~~~~~~~~~~~~~~~~~~~~~~~~~~~~~~~~~~~~~~~~~~~~~~~~~~~~~~~~~~~\n"
     ]
    }
   ],
   "source": [
    "data = pd.read_csv(\"student-mat.csv\", delimiter =\";\")\n",
    "\n",
    "#-------------------------------------------------------------\n",
    "# have to delete the 'G1' and 'G2' variables also\n",
    "#-------------------------------------------------------------\n",
    "data = data.drop(['G1', 'G2'], axis = 1)\n",
    "\n",
    "data_picked_features = data[['traveltime', 'failures', 'absences', 'Pstatus', 'Fjob','schoolsup','Medu','studytime','Mjob','Fjob']]\n",
    "   \n",
    "X_train, X_test, y_train, y_test, theta = prepare_data(data_rand_features)\n",
    "alpha = 0.01\n",
    "iters = 5000\n",
    "OptTheta, cost = gradientDescent_LinearR(X_train, y_train, theta, alpha, iters)\n",
    "\n",
    "#y_predictions = X_test*OptTheta.T\n",
    "\n",
    "results_LinearRegression(OptTheta,X_train,y_train,\"Handpicked_Train-Data Set\")\n",
    "results_LinearRegression(OptTheta,X_test,y_test,\"Handpicked_Test-Data Set\")"
   ]
  }
 ],
 "metadata": {
  "kernelspec": {
   "display_name": "Python 3",
   "language": "python",
   "name": "python3"
  },
  "language_info": {
   "codemirror_mode": {
    "name": "ipython",
    "version": 3
   },
   "file_extension": ".py",
   "mimetype": "text/x-python",
   "name": "python",
   "nbconvert_exporter": "python",
   "pygments_lexer": "ipython3",
   "version": "3.6.6"
  }
 },
 "nbformat": 4,
 "nbformat_minor": 2
}
